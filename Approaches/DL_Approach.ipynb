{
 "cells": [
  {
   "cell_type": "code",
   "execution_count": null,
   "id": "fa705a5f",
   "metadata": {},
   "outputs": [],
   "source": [
    "# Install TensorFlow\n",
    "%pip install tensorflow"
   ]
  },
  {
   "cell_type": "code",
   "execution_count": null,
   "id": "d95ec2cb",
   "metadata": {},
   "outputs": [],
   "source": [
    "# Import TensorFlow, Keras, and tools for label encoding\n",
    "import tensorflow as tf\n",
    "from tensorflow import keras\n",
    "from tensorflow.keras import layers\n",
    "from sklearn.preprocessing import LabelEncoder"
   ]
  },
  {
   "cell_type": "code",
   "execution_count": null,
   "id": "b04e6693",
   "metadata": {},
   "outputs": [],
   "source": [
    "# Set the vocabulary size and sequence length for our tokenizer and padding\n",
    "max_words = 20000\n",
    "maxlen = 200"
   ]
  },
  {
   "cell_type": "code",
   "execution_count": null,
   "id": "2691fdd7",
   "metadata": {},
   "outputs": [],
   "source": [
    "# Convert text to padded sequences for the LSTM model\n",
    "tokenizer = keras.preprocessing.text.Tokenizer(num_words=max_words, oov_token='<OOV>')\n",
    "tokenizer.fit_on_texts(train_df['clean_text'])\n",
    "X_train_seq = tokenizer.texts_to_sequences(train_df['clean_text'])\n",
    "X_test_seq  = tokenizer.texts_to_sequences(test_df['clean_text'])\n",
    "X_train = keras.preprocessing.sequence.pad_sequences(X_train_seq, maxlen=maxlen, padding='post', truncating='post')\n",
    "X_test  = keras.preprocessing.sequence.pad_sequences(X_test_seq,  maxlen=maxlen, padding='post', truncating='post')"
   ]
  },
  {
   "cell_type": "code",
   "execution_count": null,
   "id": "e4aaf455",
   "metadata": {},
   "outputs": [],
   "source": [
    "# Encode the labels as integers and one-hot vectors for training\n",
    "le = LabelEncoder()\n",
    "y_train = le.fit_transform(train_df['label'])\n",
    "y_test  = le.transform(test_df['label'])\n",
    "num_classes = len(le.classes_)\n",
    "y_train_cat = keras.utils.to_categorical(y_train, num_classes)\n",
    "y_test_cat  = keras.utils.to_categorical(y_test,  num_classes)"
   ]
  },
  {
   "cell_type": "code",
   "execution_count": null,
   "id": "0b8e7be1",
   "metadata": {},
   "outputs": [
    {
     "name": "stderr",
     "output_type": "stream",
     "text": [
      "c:\\Coding Segment\\Projects\\Project\\.venv\\Lib\\site-packages\\keras\\src\\layers\\core\\embedding.py:97: UserWarning: Argument `input_length` is deprecated. Just remove it.\n",
      "  warnings.warn(\n"
     ]
    }
   ],
   "source": [
    "# Build a simple LSTM model for text classification\n",
    "embedding_dim = 128\n",
    "model = keras.Sequential([\n",
    "    layers.Embedding(input_dim=max_words, output_dim=embedding_dim, input_length=maxlen),\n",
    "    layers.Bidirectional(layers.LSTM(64, dropout=0.2, recurrent_dropout=0.2)),\n",
    "    layers.Dense(64, activation='relu'),\n",
    "    layers.Dense(num_classes, activation='softmax')\n",
    "])"
   ]
  },
  {
   "cell_type": "code",
   "execution_count": null,
   "id": "b8b23c9f",
   "metadata": {},
   "outputs": [
    {
     "name": "stdout",
     "output_type": "stream",
     "text": [
      "Epoch 1/5\n",
      "\u001b[1m282/282\u001b[0m \u001b[32m━━━━━━━━━━━━━━━━━━━━\u001b[0m\u001b[37m\u001b[0m \u001b[1m187s\u001b[0m 637ms/step - accuracy: 0.7722 - loss: 0.4710 - val_accuracy: 0.8415 - val_loss: 0.3729\n",
      "Epoch 2/5\n",
      "\u001b[1m282/282\u001b[0m \u001b[32m━━━━━━━━━━━━━━━━━━━━\u001b[0m\u001b[37m\u001b[0m \u001b[1m187s\u001b[0m 637ms/step - accuracy: 0.7722 - loss: 0.4710 - val_accuracy: 0.8415 - val_loss: 0.3729\n",
      "Epoch 2/5\n",
      "\u001b[1m282/282\u001b[0m \u001b[32m━━━━━━━━━━━━━━━━━━━━\u001b[0m\u001b[37m\u001b[0m \u001b[1m176s\u001b[0m 626ms/step - accuracy: 0.8989 - loss: 0.2676 - val_accuracy: 0.8105 - val_loss: 0.4034\n",
      "Epoch 3/5\n",
      "\u001b[1m282/282\u001b[0m \u001b[32m━━━━━━━━━━━━━━━━━━━━\u001b[0m\u001b[37m\u001b[0m \u001b[1m176s\u001b[0m 626ms/step - accuracy: 0.8989 - loss: 0.2676 - val_accuracy: 0.8105 - val_loss: 0.4034\n",
      "Epoch 3/5\n",
      "\u001b[1m282/282\u001b[0m \u001b[32m━━━━━━━━━━━━━━━━━━━━\u001b[0m\u001b[37m\u001b[0m \u001b[1m174s\u001b[0m 617ms/step - accuracy: 0.9316 - loss: 0.1895 - val_accuracy: 0.8505 - val_loss: 0.4200\n",
      "Epoch 4/5\n",
      "\u001b[1m282/282\u001b[0m \u001b[32m━━━━━━━━━━━━━━━━━━━━\u001b[0m\u001b[37m\u001b[0m \u001b[1m174s\u001b[0m 617ms/step - accuracy: 0.9316 - loss: 0.1895 - val_accuracy: 0.8505 - val_loss: 0.4200\n",
      "Epoch 4/5\n",
      "\u001b[1m282/282\u001b[0m \u001b[32m━━━━━━━━━━━━━━━━━━━━\u001b[0m\u001b[37m\u001b[0m \u001b[1m202s\u001b[0m 618ms/step - accuracy: 0.9594 - loss: 0.1228 - val_accuracy: 0.8375 - val_loss: 0.4430\n",
      "Epoch 5/5\n",
      "\u001b[1m282/282\u001b[0m \u001b[32m━━━━━━━━━━━━━━━━━━━━\u001b[0m\u001b[37m\u001b[0m \u001b[1m202s\u001b[0m 618ms/step - accuracy: 0.9594 - loss: 0.1228 - val_accuracy: 0.8375 - val_loss: 0.4430\n",
      "Epoch 5/5\n",
      "\u001b[1m282/282\u001b[0m \u001b[32m━━━━━━━━━━━━━━━━━━━━\u001b[0m\u001b[37m\u001b[0m \u001b[1m204s\u001b[0m 626ms/step - accuracy: 0.9718 - loss: 0.0831 - val_accuracy: 0.8390 - val_loss: 0.4804\n",
      "\u001b[1m282/282\u001b[0m \u001b[32m━━━━━━━━━━━━━━━━━━━━\u001b[0m\u001b[37m\u001b[0m \u001b[1m204s\u001b[0m 626ms/step - accuracy: 0.9718 - loss: 0.0831 - val_accuracy: 0.8390 - val_loss: 0.4804\n"
     ]
    }
   ],
   "source": [
    "# Compile and train the LSTM model\n",
    "model.compile(optimizer='adam', loss='categorical_crossentropy', metrics=['accuracy'])\n",
    "history = model.fit(X_train, y_train_cat, validation_split=0.1, epochs=5, batch_size=64)"
   ]
  },
  {
   "cell_type": "code",
   "execution_count": null,
   "id": "abc9545f",
   "metadata": {},
   "outputs": [
    {
     "name": "stdout",
     "output_type": "stream",
     "text": [
      "\u001b[1m157/157\u001b[0m \u001b[32m━━━━━━━━━━━━━━━━━━━━\u001b[0m\u001b[37m\u001b[0m \u001b[1m6s\u001b[0m 35ms/step\n",
      "\u001b[1m157/157\u001b[0m \u001b[32m━━━━━━━━━━━━━━━━━━━━\u001b[0m\u001b[37m\u001b[0m \u001b[1m6s\u001b[0m 35ms/step\n"
     ]
    }
   ],
   "source": [
    "# Evaluate the model on the test set and calculate metrics\n",
    "y_pred_prob = model.predict(X_test)\n",
    "y_pred_idx = y_pred_prob.argmax(axis=1)\n",
    "acc = accuracy_score(y_test, y_pred_idx)\n",
    "prec = precision_score(y_test, y_pred_idx, average='weighted', zero_division=0)\n",
    "rec = recall_score(y_test, y_pred_idx, average='weighted', zero_division=0)\n",
    "f1 = f1_score(y_test, y_pred_idx, average='weighted', zero_division=0)"
   ]
  },
  {
   "cell_type": "code",
   "execution_count": null,
   "id": "bc53560c",
   "metadata": {},
   "outputs": [
    {
     "name": "stdout",
     "output_type": "stream",
     "text": [
      "Accuracy  : 0.8310\n",
      "Precision : 0.8310\n",
      "Recall    : 0.8310\n",
      "F1-score  : 0.8310\n"
     ]
    }
   ],
   "source": [
    "# Show accuracy, precision, recall, and F1-score\n",
    "print(f'Accuracy  : {acc:.4f}')\n",
    "print(f'Precision : {prec:.4f}')\n",
    "print(f'Recall    : {rec:.4f}')\n",
    "print(f'F1-score  : {f1:.4f}')"
   ]
  },
  {
   "cell_type": "code",
   "execution_count": null,
   "id": "cc36d6bf",
   "metadata": {},
   "outputs": [
    {
     "data": {
      "image/png": "[encoded data removed]",
      "text/plain": [
       "<Figure size 640x480 with 2 Axes>"
      ]
     },
     "metadata": {},
     "output_type": "display_data"
    }
   ],
   "source": [
    "# Visualize the confusion matrix for our predictions\n",
    "cm = confusion_matrix(y_test, y_pred_idx)\n",
    "disp = ConfusionMatrixDisplay(confusion_matrix=cm, display_labels=le.classes_)\n",
    "disp.plot(cmap=plt.cm.Blues)\n",
    "plt.title('Confusion Matrix')\n",
    "plt.show()"
   ]
  },
  {
   "cell_type": "code",
   "execution_count": 28,
   "id": "7a16fa37",
   "metadata": {},
   "outputs": [
    {
     "name": "stderr",
     "output_type": "stream",
     "text": [
      "WARNING:absl:You are saving your model as an HDF5 file via `model.save()` or `keras.saving.save_model(model)`. This file format is considered legacy. We recommend using instead the native Keras format, e.g. `model.save('my_model.keras')` or `keras.saving.save_model(model, 'my_model.keras')`. \n"
     ]
    }
   ],
   "source": [
    "# Save the trained LSTM model to a file\n",
    "model.save('lstm_model.h5')"
   ]
  },
  {
   "cell_type": "code",
   "execution_count": 29,
   "id": "1035a8a8",
   "metadata": {},
   "outputs": [
    {
     "data": {
      "text/plain": [
       "'Saved'"
      ]
     },
     "execution_count": 29,
     "metadata": {},
     "output_type": "execute_result"
    }
   ],
   "source": [
    "# Save the tokenizer and label encoder for future predictions\n",
    "import joblib\n",
    "joblib.dump(tokenizer, 'tokenizer.joblib')\n",
    "joblib.dump(le, 'encoder.joblib')\n",
    "'Saved'"
   ]
  },
  {
   "cell_type": "code",
   "execution_count": 31,
   "id": "98fa3979",
   "metadata": {},
   "outputs": [
    {
     "name": "stderr",
     "output_type": "stream",
     "text": [
      "WARNING:absl:Compiled the loaded model, but the compiled metrics have yet to be built. `model.compile_metrics` will be empty until you train or evaluate the model.\n"
     ]
    },
    {
     "name": "stdout",
     "output_type": "stream",
     "text": [
      "\u001b[1m1/1\u001b[0m \u001b[32m━━━━━━━━━━━━━━━━━━━━\u001b[0m\u001b[37m\u001b[0m \u001b[1m1s\u001b[0m 755ms/step\n",
      "Predicted sentiment: Positive\n",
      "\u001b[1m1/1\u001b[0m \u001b[32m━━━━━━━━━━━━━━━━━━━━\u001b[0m\u001b[37m\u001b[0m \u001b[1m1s\u001b[0m 755ms/step\n",
      "Predicted sentiment: Positive\n"
     ]
    }
   ],
   "source": [
    "# Try out the model: predict sentiment for a custom sentence\n",
    "model = tf.keras.models.load_model('lstm_model.h5')\n",
    "tokenizer = joblib.load('tokenizer.joblib')\n",
    "le = joblib.load('encoder.joblib')\n",
    "\n",
    "def predict_sentiment(text):\n",
    "    seq = tokenizer.texts_to_sequences([text])\n",
    "    padded = tf.keras.preprocessing.sequence.pad_sequences(seq, maxlen=200, padding='post', truncating='post')\n",
    "    pred_idx = np.argmax(model.predict(padded), axis=1)[0]\n",
    "    label = le.classes_[pred_idx]\n",
    "    if str(label) == \"1\":\n",
    "        return \"Positive\"\n",
    "    elif str(label) == \"0\":\n",
    "        return \"Negative\"\n",
    "    else:\n",
    "        return label\n",
    "\n",
    "user_input = input(\"Enter a sentence: \")\n",
    "print(\"Predicted sentiment:\", predict_sentiment(user_input))"
   ]
  }
 ],
 "metadata": {
  "kernelspec": {
   "display_name": ".venv",
   "language": "python",
   "name": "python3"
  },
  "language_info": {
   "codemirror_mode": {
    "name": "ipython",
    "version": 3
   },
   "file_extension": ".py",
   "mimetype": "text/x-python",
   "name": "python",
   "nbconvert_exporter": "python",
   "pygments_lexer": "ipython3",
   "version": "3.13.6"
  }
 },
 "nbformat": 4,
 "nbformat_minor": 5
}
